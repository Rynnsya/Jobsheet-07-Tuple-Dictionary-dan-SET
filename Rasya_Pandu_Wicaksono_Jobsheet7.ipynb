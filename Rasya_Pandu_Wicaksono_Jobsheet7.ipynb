{
  "nbformat": 4,
  "nbformat_minor": 0,
  "metadata": {
    "colab": {
      "provenance": [],
      "authorship_tag": "ABX9TyNlaeYtPfvO8FnaoaYSs740",
      "include_colab_link": true
    },
    "kernelspec": {
      "name": "python3",
      "display_name": "Python 3"
    },
    "language_info": {
      "name": "python"
    }
  },
  "cells": [
    {
      "cell_type": "markdown",
      "metadata": {
        "id": "view-in-github",
        "colab_type": "text"
      },
      "source": [
        "<a href=\"https://colab.research.google.com/github/Rynnsya/Jobsheet-07-Tuple-Dictionary-dan-SET/blob/main/Rasya_Pandu_Wicaksono_Jobsheet7.ipynb\" target=\"_parent\"><img src=\"https://colab.research.google.com/assets/colab-badge.svg\" alt=\"Open In Colab\"/></a>"
      ]
    },
    {
      "cell_type": "markdown",
      "source": [
        "Praktikum 1 Tuple: Data Tetap"
      ],
      "metadata": {
        "id": "GnJJU7Sma5Sf"
      }
    },
    {
      "cell_type": "code",
      "execution_count": 1,
      "metadata": {
        "colab": {
          "base_uri": "https://localhost:8080/"
        },
        "id": "kjjrkxuVa0jZ",
        "outputId": "8127b0ba-92e9-45b3-da0d-45210b456e54"
      },
      "outputs": [
        {
          "output_type": "stream",
          "name": "stdout",
          "text": [
            "Lintang: 7.05\n",
            "Bujur: 110.44\n"
          ]
        }
      ],
      "source": [
        "koordinat = (7.05, 110.44)\n",
        "print(\"Lintang:\", koordinat[0])\n",
        "print(\"Bujur:\", koordinat[1])"
      ]
    },
    {
      "cell_type": "markdown",
      "source": [
        "Praktikum 2 Dictionary Dasar"
      ],
      "metadata": {
        "id": "AxviuNU1a-53"
      }
    },
    {
      "cell_type": "code",
      "source": [
        "mahasiswa = {\n",
        "    \"NIM\": \"20251001\",\n",
        "    \"Nama\": \"Andi\",\n",
        "    \"Prodi\": \"TRK\"\n",
        "}\n",
        "\n",
        "print(\"NIM  :\", mahasiswa[\"NIM\"])\n",
        "print(\"Nama :\", mahasiswa[\"Nama\"])\n",
        "print(\"Prodi:\", mahasiswa[\"Prodi\"])"
      ],
      "metadata": {
        "colab": {
          "base_uri": "https://localhost:8080/"
        },
        "id": "b2OUoC2vbCCF",
        "outputId": "0e924170-10ec-4ba4-e906-306a89ebac08"
      },
      "execution_count": 3,
      "outputs": [
        {
          "output_type": "stream",
          "name": "stdout",
          "text": [
            "NIM  : 20251001\n",
            "Nama : Andi\n",
            "Prodi: TRK\n"
          ]
        }
      ]
    },
    {
      "cell_type": "markdown",
      "source": [
        "Praktikum 3 Operasi Dictionary"
      ],
      "metadata": {
        "id": "WrRPj1FXbCrg"
      }
    },
    {
      "cell_type": "code",
      "source": [
        "mahasiswa = {\n",
        "    \"NIM\": \"20251001\",\n",
        "    \"Nama\": \"Andi\",\n",
        "    \"Prodi\": \"TRK\"\n",
        "}\n",
        "\n",
        "# Menambah data baru\n",
        "mahasiswa[\"Umur\"] = 20\n",
        "\n",
        "# Memperbarui data yang sudah ada\n",
        "mahasiswa[\"Prodi\"] = \"Teknik Komputer\"\n",
        "\n",
        "# Menghapus data\n",
        "del mahasiswa[\"Umur\"]\n",
        "\n",
        "# Menampilkan hasil akhir\n",
        "print(mahasiswa)"
      ],
      "metadata": {
        "colab": {
          "base_uri": "https://localhost:8080/"
        },
        "id": "sXYkAOZFbFrr",
        "outputId": "f1370757-1a06-4463-bb47-0fa60d1ad78c"
      },
      "execution_count": 2,
      "outputs": [
        {
          "output_type": "stream",
          "name": "stdout",
          "text": [
            "{'NIM': '20251001', 'Nama': 'Andi', 'Prodi': 'Teknik Komputer'}\n"
          ]
        }
      ]
    },
    {
      "cell_type": "markdown",
      "source": [
        "Praktikum 4 Set dan Operasi Himpunan"
      ],
      "metadata": {
        "id": "AGK-rYbXbHKW"
      }
    },
    {
      "cell_type": "code",
      "source": [
        "A = {1, 2, 3, 4}\n",
        "B = {3, 4, 5, 6}\n",
        "\n",
        "print(\"Union:\", A | B)\n",
        "print(\"Intersection:\", A & B)\n",
        "print(\"Difference:\", A - B)"
      ],
      "metadata": {
        "colab": {
          "base_uri": "https://localhost:8080/"
        },
        "id": "IFCzCGc0bKdk",
        "outputId": "7a95717b-e296-476d-973f-f12c710144bb"
      },
      "execution_count": 4,
      "outputs": [
        {
          "output_type": "stream",
          "name": "stdout",
          "text": [
            "Union: {1, 2, 3, 4, 5, 6}\n",
            "Intersection: {3, 4}\n",
            "Difference: {1, 2}\n"
          ]
        }
      ]
    },
    {
      "cell_type": "markdown",
      "source": [
        "Praktikum 5 Studi Kasus Mata Kuliah"
      ],
      "metadata": {
        "id": "_5W3e5lObLBK"
      }
    },
    {
      "cell_type": "code",
      "source": [
        "mhs1 = {\"Algoritma\", \"Matematika\", \"Bahasa Inggris\"}\n",
        "mhs2 = {\"Algoritma\", \"Basis Data\", \"Matematika\"}\n",
        "\n",
        "print(\"Mata kuliah Mhs1:\", mhs1)\n",
        "print(\"Mata kuliah Mhs2:\", mhs2)\n",
        "print(\"Mata kuliah yang sama:\", mhs1 & mhs2)"
      ],
      "metadata": {
        "colab": {
          "base_uri": "https://localhost:8080/"
        },
        "id": "syXtSoLjbO0Z",
        "outputId": "f5af9e3d-093d-48e2-fcfa-87421a37e53f"
      },
      "execution_count": 5,
      "outputs": [
        {
          "output_type": "stream",
          "name": "stdout",
          "text": [
            "Mata kuliah Mhs1: {'Matematika', 'Algoritma', 'Bahasa Inggris'}\n",
            "Mata kuliah Mhs2: {'Matematika', 'Algoritma', 'Basis Data'}\n",
            "Mata kuliah yang sama: {'Matematika', 'Algoritma'}\n"
          ]
        }
      ]
    },
    {
      "cell_type": "markdown",
      "source": [
        "Praktikum 6 Studi Kasus Dictionary: Daftar Nilai"
      ],
      "metadata": {
        "id": "JgTnI9MubQ0T"
      }
    },
    {
      "cell_type": "code",
      "source": [
        "nilai_mahasiswa = {\n",
        "    \"Andi\": 80,\n",
        "    \"Budi\": 75,\n",
        "    \"Cici\": 90\n",
        "}\n",
        "\n",
        "# Menampilkan nama dan nilai setiap mahasiswa\n",
        "for nama, nilai in nilai_mahasiswa.items():\n",
        "    print(f\"{nama}: {nilai}\")\n",
        "\n",
        "# Menghitung rata-rata nilai\n",
        "rata = sum(nilai_mahasiswa.values()) / len(nilai_mahasiswa)\n",
        "print(f\"Rata-rata nilai: {rata:.2f}\")"
      ],
      "metadata": {
        "colab": {
          "base_uri": "https://localhost:8080/"
        },
        "id": "nWWBWFQvbVoI",
        "outputId": "1057c1fc-ea7d-44ed-ed7e-28793ffe1070"
      },
      "execution_count": 6,
      "outputs": [
        {
          "output_type": "stream",
          "name": "stdout",
          "text": [
            "Andi: 80\n",
            "Budi: 75\n",
            "Cici: 90\n",
            "Rata-rata nilai: 81.67\n"
          ]
        }
      ]
    },
    {
      "cell_type": "markdown",
      "source": [
        "Penugasan 3 Tuple Sederhana"
      ],
      "metadata": {
        "id": "HZgVvZKVf4Er"
      }
    },
    {
      "cell_type": "code",
      "source": [
        "mahasiswa = (\"Andi\", 20, \"Teknik Komputer\")\n",
        "\n",
        "print(\"Nama :\", mahasiswa[0])\n",
        "print(\"Umur :\", mahasiswa[1])\n",
        "print(\"Prodi:\", mahasiswa[2])"
      ],
      "metadata": {
        "colab": {
          "base_uri": "https://localhost:8080/"
        },
        "id": "YRCQA1Wef25o",
        "outputId": "72fdc725-debb-4244-911b-60c8070ede9c"
      },
      "execution_count": 7,
      "outputs": [
        {
          "output_type": "stream",
          "name": "stdout",
          "text": [
            "Nama : Andi\n",
            "Umur : 20\n",
            "Prodi: Teknik Komputer\n"
          ]
        }
      ]
    },
    {
      "cell_type": "markdown",
      "source": [
        "Penugasan 4 Tuple Tidak Bisa Diubah"
      ],
      "metadata": {
        "id": "H4zM5bqAgrg1"
      }
    },
    {
      "cell_type": "code",
      "source": [
        "aangka = (1, 2, 3)\n",
        "angka[0] = 10"
      ],
      "metadata": {
        "colab": {
          "base_uri": "https://localhost:8080/",
          "height": 159
        },
        "id": "ncOaYaC_gu_4",
        "outputId": "84db4911-bb67-47f8-97bb-6646ffd238f1"
      },
      "execution_count": 9,
      "outputs": [
        {
          "output_type": "error",
          "ename": "TypeError",
          "evalue": "'tuple' object does not support item assignment",
          "traceback": [
            "\u001b[0;31m---------------------------------------------------------------------------\u001b[0m",
            "\u001b[0;31mTypeError\u001b[0m                                 Traceback (most recent call last)",
            "\u001b[0;32m/tmp/ipython-input-2141834679.py\u001b[0m in \u001b[0;36m<cell line: 0>\u001b[0;34m()\u001b[0m\n\u001b[1;32m      1\u001b[0m \u001b[0maangka\u001b[0m \u001b[0;34m=\u001b[0m \u001b[0;34m(\u001b[0m\u001b[0;36m1\u001b[0m\u001b[0;34m,\u001b[0m \u001b[0;36m2\u001b[0m\u001b[0;34m,\u001b[0m \u001b[0;36m3\u001b[0m\u001b[0;34m)\u001b[0m\u001b[0;34m\u001b[0m\u001b[0;34m\u001b[0m\u001b[0m\n\u001b[0;32m----> 2\u001b[0;31m \u001b[0mangka\u001b[0m\u001b[0;34m[\u001b[0m\u001b[0;36m0\u001b[0m\u001b[0;34m]\u001b[0m \u001b[0;34m=\u001b[0m \u001b[0;36m10\u001b[0m\u001b[0;34m\u001b[0m\u001b[0;34m\u001b[0m\u001b[0m\n\u001b[0m",
            "\u001b[0;31mTypeError\u001b[0m: 'tuple' object does not support item assignment"
          ]
        }
      ]
    },
    {
      "cell_type": "markdown",
      "source": [
        "Penugasan 5 Dictionary Dasar"
      ],
      "metadata": {
        "id": "QWfW7KRVgvfe"
      }
    },
    {
      "cell_type": "code",
      "source": [
        "buku = {\n",
        "    \"Judul\": \"Algoritma\",\n",
        "    \"Penulis\": \"Munir\",\n",
        "    \"Tahun\": 2021\n",
        "}\n",
        "\n",
        "print(\"Judul  :\", buku[\"Judul\"])\n",
        "print(\"Penulis:\", buku[\"Penulis\"])\n",
        "print(\"Tahun  :\", buku[\"Tahun\"])"
      ],
      "metadata": {
        "colab": {
          "base_uri": "https://localhost:8080/"
        },
        "id": "jGyx9IJPgyHV",
        "outputId": "fcc71be2-751d-4335-de41-e880def565db"
      },
      "execution_count": 10,
      "outputs": [
        {
          "output_type": "stream",
          "name": "stdout",
          "text": [
            "Judul  : Algoritma\n",
            "Penulis: Munir\n",
            "Tahun  : 2021\n"
          ]
        }
      ]
    },
    {
      "cell_type": "markdown",
      "source": [
        "Penugasan 6 Operasi Dictionary"
      ],
      "metadata": {
        "id": "_XlWgJ4KgxvN"
      }
    },
    {
      "cell_type": "code",
      "source": [
        "dosen = {\n",
        "    \"NIP\": \"12345\",\n",
        "    \"Nama\": \"Budi\",\n",
        "    \"Prodi\": \"TRK\"\n",
        "}\n",
        "\n",
        "dosen[\"Umur\"] = 40\n",
        "\n",
        "dosen[\"Prodi\"] = \"Teknik Komputer\"\n",
        "\n",
        "del dosen[\"Umur\"]\n",
        "\n",
        "print(dosen)"
      ],
      "metadata": {
        "colab": {
          "base_uri": "https://localhost:8080/"
        },
        "id": "oXPwH-GJmoQe",
        "outputId": "2f04910b-1ac6-4d32-faf0-e30ea26678e0"
      },
      "execution_count": 11,
      "outputs": [
        {
          "output_type": "stream",
          "name": "stdout",
          "text": [
            "{'NIP': '12345', 'Nama': 'Budi', 'Prodi': 'Teknik Komputer'}\n"
          ]
        }
      ]
    },
    {
      "cell_type": "markdown",
      "source": [
        "Penugasan 7 Set dan Himpunan"
      ],
      "metadata": {
        "id": "ps3-6vJ5msyw"
      }
    },
    {
      "cell_type": "code",
      "source": [
        "A = {\"Matematika\", \"Algoritma\", \"Bahasa Inggris\"}\n",
        "B = {\"Algoritma\", \"Basis Data\", \"Matematika\"}\n",
        "\n",
        "print(\"Union (gabungan):\", A | B)\n",
        "print(\"Intersection (irisan):\", A & B)\n",
        "print(\"Difference (A - B):\", A - B)"
      ],
      "metadata": {
        "colab": {
          "base_uri": "https://localhost:8080/"
        },
        "id": "QQOavVdQmsNf",
        "outputId": "95fe85df-9ce9-43e8-ccc0-831cd04e9200"
      },
      "execution_count": 12,
      "outputs": [
        {
          "output_type": "stream",
          "name": "stdout",
          "text": [
            "Union (gabungan): {'Matematika', 'Algoritma', 'Bahasa Inggris', 'Basis Data'}\n",
            "Intersection (irisan): {'Matematika', 'Algoritma'}\n",
            "Difference (A - B): {'Bahasa Inggris'}\n"
          ]
        }
      ]
    },
    {
      "cell_type": "markdown",
      "source": [
        "Penugasan 8 Studi Kasus Dictionary"
      ],
      "metadata": {
        "id": "n8PJe8n6nViS"
      }
    },
    {
      "cell_type": "code",
      "source": [
        "nilai_mahasiswa = {\n",
        "    \"Andi\": 85,\n",
        "    \"Budi\": 90,\n",
        "    \"Cici\": 78\n",
        "}\n",
        "\n",
        "print(\"Daftar nilai mahasiswa:\")\n",
        "for nama, nilai in nilai_mahasiswa.items():\n",
        "    print(f\"{nama}: {nilai}\")\n",
        "\n",
        "rata_rata = sum(nilai_mahasiswa.values()) / len(nilai_mahasiswa)\n",
        "print(f\"\\nRata-rata nilai: {rata_rata:.2f}\")"
      ],
      "metadata": {
        "colab": {
          "base_uri": "https://localhost:8080/"
        },
        "id": "extvk-Z7nUns",
        "outputId": "fca6efd7-55e3-46d5-b935-2f4ac5a4239c"
      },
      "execution_count": 13,
      "outputs": [
        {
          "output_type": "stream",
          "name": "stdout",
          "text": [
            "Daftar nilai mahasiswa:\n",
            "Andi: 85\n",
            "Budi: 90\n",
            "Cici: 78\n",
            "\n",
            "Rata-rata nilai: 84.33\n"
          ]
        }
      ]
    },
    {
      "cell_type": "markdown",
      "source": [
        "Penugasan 9 Studi Kasus Set - Klub Mahasiswa"
      ],
      "metadata": {
        "id": "OIMCaHSnrsyk"
      }
    },
    {
      "cell_type": "code",
      "source": [
        "klub_A = {\"Andi\", \"Budi\", \"Cici\"}\n",
        "klub_B = {\"Cici\", \"Deni\", \"Eka\"}\n",
        "\n",
        "print(\"Daftar seluruh anggota (Union):\", klub_A | klub_B)\n",
        "print(\"Anggota di kedua klub (Intersection):\", klub_A & klub_B)\n",
        "print(\"Anggota hanya di Klub A (Difference):\", klub_A - klub_B)"
      ],
      "metadata": {
        "colab": {
          "base_uri": "https://localhost:8080/"
        },
        "id": "lSCI_p2xraf6",
        "outputId": "cdcd859f-aeb3-4ba2-8a9f-09b47b42a026"
      },
      "execution_count": 14,
      "outputs": [
        {
          "output_type": "stream",
          "name": "stdout",
          "text": [
            "Daftar seluruh anggota (Union): {'Cici', 'Andi', 'Budi', 'Eka', 'Deni'}\n",
            "Anggota di kedua klub (Intersection): {'Cici'}\n",
            "Anggota hanya di Klub A (Difference): {'Andi', 'Budi'}\n"
          ]
        }
      ]
    }
  ]
}